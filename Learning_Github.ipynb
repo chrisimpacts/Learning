{
 "cells": [
  {
   "cell_type": "markdown",
   "metadata": {},
   "source": [
    "# Learning Git & Github"
   ]
  },
  {
   "cell_type": "markdown",
   "metadata": {},
   "source": [
    "### Start a New Repository in VSCode"
   ]
  },
  {
   "cell_type": "code",
   "execution_count": null,
   "metadata": {},
   "outputs": [],
   "source": [
    "#Open Folder: Github Repos (This is where the cloned repo with sit)\n",
    "#In terminal, type:\n",
    "    #git clone <repo url eg. https://github.com/chrisimpacts/Learning.git>\n",
    "#Move files into folder"
   ]
  },
  {
   "cell_type": "markdown",
   "metadata": {},
   "source": [
    "### Upload new files"
   ]
  },
  {
   "cell_type": "code",
   "execution_count": null,
   "metadata": {},
   "outputs": [],
   "source": [
    "# In VSCode:\n",
    "    #Source Control\n",
    "    #Type Message (describing changes) and Commit\n",
    "    #Refresh Github page to view file"
   ]
  }
 ],
 "metadata": {
  "language_info": {
   "name": "python"
  },
  "orig_nbformat": 4
 },
 "nbformat": 4,
 "nbformat_minor": 2
}
